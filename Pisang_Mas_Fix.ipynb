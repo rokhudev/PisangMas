{
  "cells": [
    {
      "cell_type": "code",
      "execution_count": 1,
      "metadata": {
        "id": "gZaTX2aZJDVh"
      },
      "outputs": [],
      "source": [
        "#Import Library yang dibutuhkan\n",
        "import pandas as pd #manipulasi data dan analisis data seperti excel\n",
        "import numpy as np #operasi numerik dan array \n",
        "import cv2 #Membaca, memanipulasi, dan menganalisis gambar.\n",
        "import os #Mengimpor gambar, berinteraksi dengan sistem file.\n",
        "import csv #Mengelola data dalam format CSV.\n",
        "from sklearn.model_selection import train_test_split #Membagi data menjadi set pelatihan dan pengujian,\n",
        "from sklearn.neighbors import KNeighborsClassifier# membuat dan mengevaluasi model klasifikasi (K-Nearest Neighbors)\n",
        "from sklearn.metrics import accuracy_score, classification_report, confusion_matrix  #mencari akurasi, membuat laporan klasifikasi, dan membuat confsuion matrix\n",
        "import seaborn as sns #Memvisualisasikan data statistik, digunakan untuk membuat heatmap dari confusion matrix\n",
        "import matplotlib.pyplot as plt #Memungkinkan pembuatan visualisasi grafis dan plot"
      ]
    },
    {
      "cell_type": "code",
      "execution_count": 2,
      "metadata": {
        "colab": {
          "base_uri": "https://localhost:8080/"
        },
        "id": "GPZrwkQoJD4t",
        "outputId": "71ff0a6b-4194-451f-b785-182204b9abfe"
      },
      "outputs": [
        {
          "name": "stdout",
          "output_type": "stream",
          "text": [
            "Mounted at /content/drive\n"
          ]
        }
      ],
      "source": [
        "from google.colab import drive\n",
        "drive.mount('/content/drive')"
      ]
    },
    {
      "cell_type": "markdown",
      "metadata": {
        "id": "zwYofFqBqJYH"
      },
      "source": [
        "RESIZE MENTAH"
      ]
    },
    {
      "cell_type": "code",
      "execution_count": 3,
      "metadata": {
        "id": "JtCFPf8yX-i1"
      },
      "outputs": [],
      "source": [
        "# from PIL import Image\n",
        "\n",
        "# # Direktori awal\n",
        "# input_directory = '/content/drive/MyDrive/pisangmasedit/mentah'\n",
        "\n",
        "# # Direktori tujuan untuk menyimpan gambar yang diresize\n",
        "# output_directory = '/content/drive/MyDrive/pisangmaseditcrop/mentah'\n",
        "\n",
        "# # Ukuran yang diinginkan untuk gambar yang diresize\n",
        "# target_size = (200, 200)\n",
        "\n",
        "# # Pastikan direktori tujuan sudah ada\n",
        "# os.makedirs(output_directory, exist_ok=True)\n",
        "\n",
        "# # Loop melalui setiap file gambar di direktori awal\n",
        "# for filename in os.listdir(input_directory):\n",
        "#     if filename.endswith(\".jpg\") or filename.endswith(\".png\"):\n",
        "#         # Baca gambar\n",
        "#         image_path = os.path.join(input_directory, filename)\n",
        "#         img = Image.open(image_path)\n",
        "\n",
        "#         # Resize gambar\n",
        "#         resized_img = img.resize(target_size)\n",
        "\n",
        "#         # Simpan gambar yang diresize ke direktori tujuan\n",
        "#         output_path = os.path.join(output_directory, filename)\n",
        "#         resized_img.save(output_path)\n",
        "\n",
        "# print(\"Proses resize mentah selesai.\")"
      ]
    },
    {
      "cell_type": "markdown",
      "metadata": {
        "id": "LU0eu2xAqMFw"
      },
      "source": [
        "RESIZE MATANG"
      ]
    },
    {
      "cell_type": "code",
      "execution_count": 4,
      "metadata": {
        "id": "Jo3AvHTdYAki"
      },
      "outputs": [],
      "source": [
        "# # Direktori awal\n",
        "# input_directory = '/content/drive/MyDrive/pisangmasedit/matang'\n",
        "\n",
        "# # Direktori tujuan untuk menyimpan gambar yang diresize\n",
        "# output_directory = '/content/drive/MyDrive/pisangmaseditcrop/matang'\n",
        "\n",
        "# # Ukuran yang diinginkan untuk gambar yang diresize\n",
        "# target_size = (200, 200)\n",
        "\n",
        "# # Pastikan direktori tujuan sudah ada\n",
        "# os.makedirs(output_directory, exist_ok=True)\n",
        "\n",
        "# # Loop melalui setiap file gambar di direktori awal\n",
        "# for filename in os.listdir(input_directory):\n",
        "#     if filename.endswith(\".jpg\") or filename.endswith(\".png\"):\n",
        "#         # Baca gambar\n",
        "#         image_path = os.path.join(input_directory, filename)\n",
        "#         img = Image.open(image_path)\n",
        "\n",
        "#         # Resize gambar\n",
        "#         resized_img = img.resize(target_size)\n",
        "\n",
        "#         # Simpan gambar yang diresize ke direktori tujuan\n",
        "#         output_path = os.path.join(output_directory, filename)\n",
        "#         resized_img.save(output_path)\n",
        "\n",
        "# print(\"Proses resize matang selesai.\")"
      ]
    },
    {
      "cell_type": "markdown",
      "metadata": {
        "id": "MsV4I6jCqOTs"
      },
      "source": [
        "RESIZE SANGAT MATANG"
      ]
    },
    {
      "cell_type": "code",
      "execution_count": 5,
      "metadata": {
        "id": "14J-pKgwYGxg"
      },
      "outputs": [],
      "source": [
        "# # Direktori awal\n",
        "# input_directory = '/content/drive/MyDrive/pisangmasedit/sangatmatang'\n",
        "\n",
        "# # Direktori tujuan untuk menyimpan gambar yang diresize\n",
        "# output_directory = '/content/drive/MyDrive/pisangmaseditcrop/sangatmatang'\n",
        "\n",
        "# # Ukuran yang diinginkan untuk gambar yang diresize\n",
        "# target_size = (200, 200)\n",
        "\n",
        "# # Pastikan direktori tujuan sudah ada\n",
        "# os.makedirs(output_directory, exist_ok=True)\n",
        "\n",
        "# # Loop melalui setiap file gambar di direktori awal\n",
        "# for filename in os.listdir(input_directory):\n",
        "#     if filename.endswith(\".jpg\") or filename.endswith(\".png\"):\n",
        "#         # Baca gambar\n",
        "#         image_path = os.path.join(input_directory, filename)\n",
        "#         img = Image.open(image_path)\n",
        "\n",
        "#         # Resize gambar\n",
        "#         resized_img = img.resize(target_size)\n",
        "\n",
        "#         # Simpan gambar yang diresize ke direktori tujuan\n",
        "#         output_path = os.path.join(output_directory, filename)\n",
        "#         resized_img.save(output_path)\n",
        "\n",
        "# print(\"Proses resize sangat matang selesai.\")"
      ]
    },
    {
      "cell_type": "markdown",
      "metadata": {
        "id": "JdbWVQsVqEHY"
      },
      "source": [
        "MENTAH"
      ]
    },
    {
      "cell_type": "code",
      "execution_count": 6,
      "metadata": {
        "id": "kS244nzcHBAz"
      },
      "outputs": [],
      "source": [
        "path = '/content/drive/MyDrive/pisangmaseditcrop/mentah'  # path ke direktori gambar\n",
        "data = os.listdir(path)  # mendapatkan daftar gambar dalam direktori\n",
        "rataR = []  # inisialisasi list untuk menyimpan nilai rata-rata R\n",
        "rataG = []  # inisialisasi list untuk menyimpan nilai rata-rata G\n",
        "rataB = []  # inisialisasi list untuk menyimpan nilai rata-rata B\n",
        "rataH = []  # inisialisasi list untuk menyimpan nilai rata-rata H\n",
        "rataS = []  # inisialisasi list untuk menyimpan nilai rata-rata S\n",
        "rataV = []  # inisialisasi list untuk menyimpan nilai rata-rata V\n",
        "label = []  # inisialisasi list untuk menyimpan label\n",
        "\n",
        "def normalize_rgb(image):\n",
        "    return image / 255.0\n",
        "\n",
        "def calculate_hsv(normalized_r, normalized_g, normalized_b):\n",
        "    v = np.max([normalized_r, normalized_g, normalized_b])\n",
        "\n",
        "    s = (v - np.min([normalized_r, normalized_g, normalized_b])) / v if v != 0 else 0\n",
        "\n",
        "    if v == 0:\n",
        "        h = 0\n",
        "    elif v == normalized_r:\n",
        "        h = 60 * (normalized_g - normalized_b) / (v - np.min([normalized_r, normalized_g, normalized_b]))\n",
        "    elif v == normalized_g:\n",
        "        h = 120 + 60 * (normalized_b - normalized_r) / (v - np.min([normalized_r, normalized_g, normalized_b]))\n",
        "    else:\n",
        "        h = 240 + 60 * (normalized_r - normalized_g) / (v - np.min([normalized_r, normalized_g, normalized_b]))\n",
        "\n",
        "    h = h if h >= 0 else h + 360\n",
        "    return h, s, v\n",
        "\n",
        "#Loop untuk pengelolaan setiap gambar\n",
        "for image_name in data:\n",
        "    image_path = os.path.join(path, image_name)\n",
        "    image = cv2.imread(image_path)\n",
        "\n",
        "    # Konversi BGR ke RGB\n",
        "    image_rgb = cv2.cvtColor(image, cv2.COLOR_BGR2RGB)\n",
        "\n",
        "    normalized_image = normalize_rgb(image_rgb)\n",
        "\n",
        "    mean_rgb = np.mean(normalized_image, axis=(0, 1))\n",
        "    mean_hsv = calculate_hsv(*mean_rgb)\n",
        "\n",
        "    rataR.append(mean_rgb[0])\n",
        "    rataG.append(mean_rgb[1])\n",
        "    rataB.append(mean_rgb[2])\n",
        "    rataH.append(mean_hsv[0])\n",
        "    rataS.append(mean_hsv[1])\n",
        "    rataV.append(mean_hsv[2])\n",
        "    label.append(1)\n",
        "\n",
        "# Membuat DataFrame untuk setiap channel warna dan label\n",
        "data1 = pd.DataFrame(rataR, columns=['MeanR'])\n",
        "data2 = pd.DataFrame(rataG, columns=['MeanG'])\n",
        "data3 = pd.DataFrame(rataB, columns=['MeanB'])\n",
        "data4 = pd.DataFrame(rataH, columns=['MeanH'])\n",
        "data5 = pd.DataFrame(rataS, columns=['MeanS'])\n",
        "data6 = pd.DataFrame(rataV, columns=['MeanV'])\n",
        "data7 = pd.DataFrame(label, columns=['Kematangan'])\n",
        "\n",
        "# Menggabungkan semua DataFrame menjadi satu\n",
        "listdata1 = [data1, data2, data3, data4, data5, data6, data7]\n",
        "gabung1 = pd.concat(listdata1, axis=1)"
      ]
    },
    {
      "cell_type": "markdown",
      "metadata": {
        "id": "_x36CSvNqFvB"
      },
      "source": [
        "MATANG"
      ]
    },
    {
      "cell_type": "code",
      "execution_count": 7,
      "metadata": {
        "id": "C8VTDRZr8FW9"
      },
      "outputs": [],
      "source": [
        "path = '/content/drive/MyDrive/pisangmaseditcrop/matang'  # path ke direktori gambar\n",
        "data = os.listdir(path)  # mendapatkan daftar gambar dalam direktori\n",
        "rataR = []  # inisialisasi list untuk menyimpan nilai rata-rata R\n",
        "rataG = []  # inisialisasi list untuk menyimpan nilai rata-rata G\n",
        "rataB = []  # inisialisasi list untuk menyimpan nilai rata-rata B\n",
        "rataH = []  # inisialisasi list untuk menyimpan nilai rata-rata H\n",
        "rataS = []  # inisialisasi list untuk menyimpan nilai rata-rata S\n",
        "rataV = []  # inisialisasi list untuk menyimpan nilai rata-rata V\n",
        "label = []  # inisialisasi list untuk menyimpan label\n",
        "\n",
        "def normalize_rgb(image):\n",
        "    return image / 255.0\n",
        "\n",
        "def calculate_hsv(normalized_r, normalized_g, normalized_b):\n",
        "    v = np.max([normalized_r, normalized_g, normalized_b])\n",
        "\n",
        "    s = (v - np.min([normalized_r, normalized_g, normalized_b])) / v if v != 0 else 0\n",
        "\n",
        "    if v == 0:\n",
        "        h = 0\n",
        "    elif v == normalized_r:\n",
        "        h = 60 * (normalized_g - normalized_b) / (v - np.min([normalized_r, normalized_g, normalized_b]))\n",
        "    elif v == normalized_g:\n",
        "        h = 120 + 60 * (normalized_b - normalized_r) / (v - np.min([normalized_r, normalized_g, normalized_b]))\n",
        "    else:\n",
        "        h = 240 + 60 * (normalized_r - normalized_g) / (v - np.min([normalized_r, normalized_g, normalized_b]))\n",
        "\n",
        "    h = h if h >= 0 else h + 360\n",
        "    return h, s, v\n",
        "\n",
        "for image_name in data:\n",
        "    image_path = os.path.join(path, image_name)\n",
        "    image = cv2.imread(image_path)\n",
        "\n",
        "    # Konversi BGR ke RGB\n",
        "    image_rgb = cv2.cvtColor(image, cv2.COLOR_BGR2RGB)\n",
        "\n",
        "    normalized_image = normalize_rgb(image_rgb)\n",
        "\n",
        "    mean_rgb = np.mean(normalized_image, axis=(0, 1))\n",
        "    mean_hsv = calculate_hsv(*mean_rgb)\n",
        "\n",
        "    rataR.append(mean_rgb[0])\n",
        "    rataG.append(mean_rgb[1])\n",
        "    rataB.append(mean_rgb[2])\n",
        "    rataH.append(mean_hsv[0])\n",
        "    rataS.append(mean_hsv[1])\n",
        "    rataV.append(mean_hsv[2])\n",
        "    label.append(2)\n",
        "\n",
        "# Membuat DataFrame untuk setiap channel warna dan label\n",
        "data1 = pd.DataFrame(rataR, columns=['MeanR'])\n",
        "data2 = pd.DataFrame(rataG, columns=['MeanG'])\n",
        "data3 = pd.DataFrame(rataB, columns=['MeanB'])\n",
        "data4 = pd.DataFrame(rataH, columns=['MeanH'])\n",
        "data5 = pd.DataFrame(rataS, columns=['MeanS'])\n",
        "data6 = pd.DataFrame(rataV, columns=['MeanV'])\n",
        "data7 = pd.DataFrame(label, columns=['Kematangan'])\n",
        "\n",
        "# Menggabungkan semua DataFrame menjadi satu\n",
        "listdata2 = [data1, data2, data3, data4, data5, data6, data7]\n",
        "gabung2 = pd.concat(listdata2, axis=1)"
      ]
    },
    {
      "cell_type": "markdown",
      "metadata": {
        "id": "nf0oeIV1qHL3"
      },
      "source": [
        "SANGATMATANG"
      ]
    },
    {
      "cell_type": "code",
      "execution_count": 8,
      "metadata": {
        "id": "7AZ0dFJtKMM9"
      },
      "outputs": [],
      "source": [
        "path = '/content/drive/MyDrive/pisangmaseditcrop/sangatmatang'  # path ke direktori gambar\n",
        "data = os.listdir(path)  # mendapatkan daftar gambar dalam direktori\n",
        "rataR = []  # inisialisasi list untuk menyimpan nilai rata-rata R\n",
        "rataG = []  # inisialisasi list untuk menyimpan nilai rata-rata G\n",
        "rataB = []  # inisialisasi list untuk menyimpan nilai rata-rata B\n",
        "rataH = []  # inisialisasi list untuk menyimpan nilai rata-rata H\n",
        "rataS = []  # inisialisasi list untuk menyimpan nilai rata-rata S\n",
        "rataV = []  # inisialisasi list untuk menyimpan nilai rata-rata V\n",
        "label = []  # inisialisasi list untuk menyimpan label\n",
        "\n",
        "def normalize_rgb(image):\n",
        "    return image / 255.0\n",
        "\n",
        "def calculate_hsv(normalized_r, normalized_g, normalized_b):\n",
        "    v = np.max([normalized_r, normalized_g, normalized_b])\n",
        "\n",
        "    s = (v - np.min([normalized_r, normalized_g, normalized_b])) / v if v != 0 else 0\n",
        "\n",
        "    if v == 0:\n",
        "        h = 0\n",
        "    elif v == normalized_r:\n",
        "        h = 60 * (normalized_g - normalized_b) / (v - np.min([normalized_r, normalized_g, normalized_b]))\n",
        "    elif v == normalized_g:\n",
        "        h = 120 + 60 * (normalized_b - normalized_r) / (v - np.min([normalized_r, normalized_g, normalized_b]))\n",
        "    else:\n",
        "        h = 240 + 60 * (normalized_r - normalized_g) / (v - np.min([normalized_r, normalized_g, normalized_b]))\n",
        "\n",
        "    h = h if h >= 0 else h + 360\n",
        "    return h, s, v\n",
        "\n",
        "for image_name in data:\n",
        "    image_path = os.path.join(path, image_name)\n",
        "    image = cv2.imread(image_path)\n",
        "\n",
        "    # Konversi BGR ke RGB\n",
        "    image_rgb = cv2.cvtColor(image, cv2.COLOR_BGR2RGB)\n",
        "\n",
        "    normalized_image = normalize_rgb(image_rgb)\n",
        "\n",
        "    mean_rgb = np.mean(normalized_image, axis=(0, 1))\n",
        "    mean_hsv = calculate_hsv(*mean_rgb)\n",
        "\n",
        "    rataR.append(mean_rgb[0])\n",
        "    rataG.append(mean_rgb[1])\n",
        "    rataB.append(mean_rgb[2])\n",
        "    rataH.append(mean_hsv[0])\n",
        "    rataS.append(mean_hsv[1])\n",
        "    rataV.append(mean_hsv[2])\n",
        "    label.append(3)\n",
        "\n",
        "# Membuat DataFrame untuk setiap channel warna dan label\n",
        "data1 = pd.DataFrame(rataR, columns=['MeanR'])\n",
        "data2 = pd.DataFrame(rataG, columns=['MeanG'])\n",
        "data3 = pd.DataFrame(rataB, columns=['MeanB'])\n",
        "data4 = pd.DataFrame(rataH, columns=['MeanH'])\n",
        "data5 = pd.DataFrame(rataS, columns=['MeanS'])\n",
        "data6 = pd.DataFrame(rataV, columns=['MeanV'])\n",
        "data7 = pd.DataFrame(label, columns=['Kematangan'])\n",
        "\n",
        "# Menggabungkan semua DataFrame menjadi satu\n",
        "listdata3 = [data1, data2, data3, data4, data5, data6, data7]\n",
        "gabung3 = pd.concat(listdata3, axis=1)"
      ]
    },
    {
      "cell_type": "markdown",
      "metadata": {
        "id": "PBKRicWceq-d"
      },
      "source": [
        "SIMPAN KE CSV & XLSX"
      ]
    },
    {
      "cell_type": "code",
      "execution_count": 9,
      "metadata": {
        "id": "ml3kqplDKcBX"
      },
      "outputs": [],
      "source": [
        "listdata = [gabung1, gabung2, gabung3]\n",
        "total = pd.concat(listdata, ignore_index=True)\n",
        "total.to_csv(\"pisangmas.csv\", index=False)\n",
        "total.to_excel('pisangmas.xlsx', index=False)"
      ]
    },
    {
      "cell_type": "code",
      "execution_count": 10,
      "metadata": {
        "colab": {
          "base_uri": "https://localhost:8080/"
        },
        "id": "cIERAn7QCswK",
        "outputId": "343ebc17-927d-4320-f360-5af67a4c1af5"
      },
      "outputs": [
        {
          "name": "stdout",
          "output_type": "stream",
          "text": [
            "        MeanR     MeanG     MeanB      MeanH     MeanS     MeanV  Kematangan\n",
            "0    0.864156  0.865148  0.803384  60.963808  0.071392  0.865148           1\n",
            "1    0.864277  0.868100  0.809944  63.944058  0.066992  0.868100           1\n",
            "2    0.836837  0.837023  0.779028  60.191801  0.069287  0.837023           1\n",
            "3    0.837483  0.841141  0.764401  62.859483  0.091233  0.841141           1\n",
            "4    0.864963  0.869453  0.811261  64.628938  0.066929  0.869453           1\n",
            "..        ...       ...       ...        ...       ...       ...         ...\n",
            "235  0.838669  0.820168  0.803968  28.009685  0.041376  0.838669           3\n",
            "236  0.865152  0.841623  0.817264  30.520948  0.055352  0.865152           3\n",
            "237  0.820407  0.806514  0.798505  21.941557  0.026696  0.820407           3\n",
            "238  0.846173  0.826662  0.814140  23.454939  0.037856  0.846173           3\n",
            "239  0.846656  0.803295  0.758055  30.635864  0.104648  0.846656           3\n",
            "\n",
            "[240 rows x 7 columns]\n"
          ]
        }
      ],
      "source": [
        "# Baca file CSV\n",
        "dataframe = pd.read_csv('pisangmas.csv')\n",
        "\n",
        "# Tampilkan DataFrame\n",
        "print(dataframe)"
      ]
    },
    {
      "cell_type": "code",
      "execution_count": 11,
      "metadata": {
        "colab": {
          "base_uri": "https://localhost:8080/"
        },
        "id": "9V079yigeQJB",
        "outputId": "b2ad22e0-46c2-46ed-f354-1067512c064f"
      },
      "outputs": [
        {
          "name": "stdout",
          "output_type": "stream",
          "text": [
            "     MeanR  MeanG  MeanB  MeanH  MeanS  MeanV  Kematangan\n",
            "0     0.86   0.87   0.80  60.96   0.07   0.87           1\n",
            "1     0.86   0.87   0.81  63.94   0.07   0.87           1\n",
            "2     0.84   0.84   0.78  60.19   0.07   0.84           1\n",
            "3     0.84   0.84   0.76  62.86   0.09   0.84           1\n",
            "4     0.86   0.87   0.81  64.63   0.07   0.87           1\n",
            "..     ...    ...    ...    ...    ...    ...         ...\n",
            "235   0.84   0.82   0.80  28.01   0.04   0.84           3\n",
            "236   0.87   0.84   0.82  30.52   0.06   0.87           3\n",
            "237   0.82   0.81   0.80  21.94   0.03   0.82           3\n",
            "238   0.85   0.83   0.81  23.45   0.04   0.85           3\n",
            "239   0.85   0.80   0.76  30.64   0.10   0.85           3\n",
            "\n",
            "[240 rows x 7 columns]\n"
          ]
        }
      ],
      "source": [
        "# Baca file CSV\n",
        "dataframe = pd.read_csv('pisangmas.csv')\n",
        "\n",
        "# Mengambil dua angka desimal dari belakang untuk setiap elemen\n",
        "dataframe = dataframe.round(2)\n",
        "\n",
        "# Menyimpan DataFrame yang sudah diubah ke file CSV\n",
        "dataframe.to_csv('pisangmas_2angka.csv', index=False)\n",
        "\n",
        "# Tampilkan DataFrame yang sudah diubah\n",
        "print(dataframe)"
      ]
    },
    {
      "cell_type": "markdown",
      "metadata": {
        "id": "54RgxAyTeyEu"
      },
      "source": [
        "MODEL KNN"
      ]
    },
    {
      "cell_type": "code",
      "execution_count": 13,
      "metadata": {
        "colab": {
          "base_uri": "https://localhost:8080/",
          "height": 755
        },
        "id": "CI_eu5yD6Axw",
        "outputId": "974445d3-29c3-4a3c-8fd4-252655dacdc2"
      },
      "outputs": [
        {
          "name": "stdout",
          "output_type": "stream",
          "text": [
            "Laporan Klasifikasi:\n",
            "              precision    recall  f1-score   support\n",
            "\n",
            "           1       1.00      1.00      1.00        15\n",
            "           2       0.95      1.00      0.98        21\n",
            "           3       1.00      0.92      0.96        12\n",
            "\n",
            "    accuracy                           0.98        48\n",
            "   macro avg       0.98      0.97      0.98        48\n",
            "weighted avg       0.98      0.98      0.98        48\n",
            "\n"
          ]
        },
        {
          "data": {
            "image/png": "[encoded data removed]",
            "text/plain": [
              "<Figure size 800x600 with 2 Axes>"
            ]
          },
          "metadata": {},
          "output_type": "display_data"
        }
      ],
      "source": [
        "# Membaca data dari file CSV\n",
        "# Gantilah 'nama_file.csv' dengan nama file CSV yang berisi tabel MeanR, MeanG, MeanB, MeanH, MeanS, MeanV, dan Kematangan\n",
        "data = pd.read_csv('/content/pisangmas.csv')\n",
        "\n",
        "# Pisahkan fitur dan label\n",
        "X = data[['MeanR', 'MeanG', 'MeanB', 'MeanH', 'MeanS', 'MeanV']]\n",
        "y = data['Kematangan']\n",
        "\n",
        "# Membagi dataset menjadi data latih dan data uji dengan mempertahankan proporsi label yang sama\n",
        "X_train, X_test, y_train, y_test = train_test_split(X, y, test_size=0.2, random_state=0)\n",
        "\n",
        "# Inisialisasi model KNN dengan k=2 dan menggunakan Euclidean distance\n",
        "knn = KNeighborsClassifier(n_neighbors=7, metric='euclidean')\n",
        "\n",
        "# Melatih model KNN\n",
        "knn.fit(X_train, y_train)\n",
        "\n",
        "# Melakukan prediksi pada data uji\n",
        "y_pred = knn.predict(X_test)\n",
        "\n",
        "# Menampilkan laporan klasifikasi\n",
        "print('Laporan Klasifikasi:')\n",
        "print(classification_report(y_test, y_pred))\n",
        "\n",
        "# Melakukan prediksi pada data latih\n",
        "y_train_pred = knn.predict(X_train)\n",
        "\n",
        "# Menampilkan confusion matrix dengan seaborn heatmap\n",
        "conf_matrix = confusion_matrix(y_test, y_pred)\n",
        "class_labels = {1: 'Mentah', 2: 'Matang', 3: 'Sangat Matang'}\n",
        "plt.figure(figsize=(8, 6))\n",
        "sns.heatmap(conf_matrix, annot=True, fmt='d', cmap='Blues', xticklabels=class_labels.values(), yticklabels=class_labels.values())\n",
        "plt.xlabel('Prediksi')\n",
        "plt.ylabel('Aktual')\n",
        "plt.title('Confusion Matrix')\n",
        "plt.show()"
      ]
    }
  ],
  "metadata": {
    "colab": {
      "provenance": []
    },
    "kernelspec": {
      "display_name": "Python 3",
      "name": "python3"
    },
    "language_info": {
      "name": "python"
    }
  },
  "nbformat": 4,
  "nbformat_minor": 0
}
